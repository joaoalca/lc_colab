{
  "nbformat": 4,
  "nbformat_minor": 0,
  "metadata": {
    "colab": {
      "name": "Zeros de funções reais",
      "provenance": [],
      "collapsed_sections": [],
      "authorship_tag": "ABX9TyM6G2cnCN1eR7gFq29EAZrX",
      "include_colab_link": true
    },
    "kernelspec": {
      "name": "python3",
      "display_name": "Python 3"
    },
    "language_info": {
      "name": "python"
    }
  },
  "cells": [
    {
      "cell_type": "markdown",
      "metadata": {
        "id": "view-in-github",
        "colab_type": "text"
      },
      "source": [
        "<a href=\"https://colab.research.google.com/github/joaoalca/lc_colab/blob/main/Zeros_de_fun%C3%A7%C3%B5es_reais.ipynb\" target=\"_parent\"><img src=\"https://colab.research.google.com/assets/colab-badge.svg\" alt=\"Open In Colab\"/></a>"
      ]
    },
    {
      "cell_type": "code",
      "execution_count": null,
      "metadata": {
        "colab": {
          "base_uri": "https://localhost:8080/"
        },
        "id": "bNEdZ60Kok15",
        "outputId": "a757e91b-aa1b-4500-bcce-af3975ed4efe"
      },
      "outputs": [
        {
          "output_type": "stream",
          "name": "stdout",
          "text": [
            "0.6417178867375909\n"
          ]
        }
      ],
      "source": [
        "import math\n",
        "\n",
        "def automate(x):\n",
        "  for i in range (999):\n",
        "    fx = x - (math.cos(x)*math.cos(x))\n",
        "    fxd = 1 + math.sin(2*x)\n",
        "    xn = x - (fx/fxd)\n",
        "    # print(xn)\n",
        "    if (xn - x)/xn < 0.00001:\n",
        "      # print((xn - x)/xn)\n",
        "      print(xn)\n",
        "      break\n",
        "    else:\n",
        "      x = xn\n",
        "automate(0.5)\n",
        "\n"
      ]
    },
    {
      "cell_type": "code",
      "source": [
        ""
      ],
      "metadata": {
        "id": "1wNMHR15q-ft"
      },
      "execution_count": null,
      "outputs": []
    }
  ]
}